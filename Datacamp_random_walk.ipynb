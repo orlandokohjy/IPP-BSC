{
  "nbformat": 4,
  "nbformat_minor": 0,
  "metadata": {
    "colab": {
      "name": "Datacamp - random walk.ipynb",
      "provenance": [],
      "collapsed_sections": [],
      "machine_shape": "hm",
      "include_colab_link": true
    },
    "kernelspec": {
      "name": "python3",
      "display_name": "Python 3"
    },
    "accelerator": "TPU"
  },
  "cells": [
    {
      "cell_type": "markdown",
      "metadata": {
        "id": "view-in-github",
        "colab_type": "text"
      },
      "source": [
        "<a href=\"https://colab.research.google.com/github/orlandokohjy/IPP-BSC/blob/main/Datacamp_random_walk.ipynb\" target=\"_parent\"><img src=\"https://colab.research.google.com/assets/colab-badge.svg\" alt=\"Open In Colab\"/></a>"
      ]
    },
    {
      "cell_type": "markdown",
      "metadata": {
        "id": "4cbgwZWWfWpp"
      },
      "source": [
        "# Datacamp intermediate Python exercise - random walk"
      ]
    },
    {
      "cell_type": "code",
      "metadata": {
        "id": "tAb77yZ9fzMG"
      },
      "source": [
        "# standard imports\n",
        "import numpy as np\n",
        "import matplotlib.pyplot as plt"
      ],
      "execution_count": 1,
      "outputs": []
    },
    {
      "cell_type": "code",
      "metadata": {
        "id": "pafL7Li0jyXW"
      },
      "source": [
        "# random walk for loop\n",
        "np.random.seed(42)\n",
        "\n",
        "# rolling a dice, 1/2 step back, 3/4/5 step up, 6 roll dice again then step up the next rolled dice number\n",
        "# do a 100 simulations\n",
        "all_walk = []\n",
        "for i in range(10000):\n",
        "  random_walk = [0]\n",
        "  for j in range(100):\n",
        "    step = random_walk[-1]\n",
        "    dice = np.random.randint(1,7)\n",
        "    if dice <= 2:\n",
        "      step = max(0, step - 1)\n",
        "    elif dice <= 5:\n",
        "      step = step + 1\n",
        "    else:\n",
        "      step = step + np.random.randint(1,7)\n",
        "    if np.random.rand() <= 0.001:\n",
        "      step = 0\n",
        "    random_walk.append(step)\n",
        "  all_walk.append(random_walk)\n",
        "\n"
      ],
      "execution_count": 12,
      "outputs": []
    },
    {
      "cell_type": "code",
      "metadata": {
        "colab": {
          "base_uri": "https://localhost:8080/"
        },
        "id": "uWA5jctrvr2_",
        "outputId": "3eef4770-ef06-4a00-f938-c0cea92c723c"
      },
      "source": [
        "# all_walk is currently a list of lists -> transpose it\n",
        "np_all_walk_t = np.transpose(all_walk)\n",
        "np_all_walk_t"
      ],
      "execution_count": 13,
      "outputs": [
        {
          "output_type": "execute_result",
          "data": {
            "text/plain": [
              "array([[ 0,  0,  0, ...,  0,  0,  0],\n",
              "       [ 1,  1,  1, ...,  1,  1,  1],\n",
              "       [ 2,  0,  0, ...,  2,  2,  2],\n",
              "       ...,\n",
              "       [79, 82, 62, ..., 77, 73, 73],\n",
              "       [80, 83, 63, ..., 78, 74, 74],\n",
              "       [79, 84, 64, ..., 77, 75, 75]])"
            ]
          },
          "metadata": {},
          "execution_count": 13
        }
      ]
    },
    {
      "cell_type": "code",
      "metadata": {
        "colab": {
          "base_uri": "https://localhost:8080/"
        },
        "id": "SD7T2Eqcvtfz",
        "outputId": "b4ff6586-1cea-4888-af2c-5abc8e351484"
      },
      "source": [
        "# select just the last row of the transpose data (that's the final step of each iteration)\n",
        "last_step = np_all_walk_t[-1]\n",
        "last_step"
      ],
      "execution_count": 14,
      "outputs": [
        {
          "output_type": "execute_result",
          "data": {
            "text/plain": [
              "array([79, 84, 64, ..., 77, 75, 75])"
            ]
          },
          "metadata": {},
          "execution_count": 14
        }
      ]
    },
    {
      "cell_type": "code",
      "metadata": {
        "colab": {
          "base_uri": "https://localhost:8080/",
          "height": 265
        },
        "id": "kwmn-AQSwMsI",
        "outputId": "5d6ae820-f80b-4cf3-ae00-1251316f90b6"
      },
      "source": [
        "# plot a histram for it\n",
        "plt.hist(last_step)\n",
        "plt.show()"
      ],
      "execution_count": 15,
      "outputs": [
        {
          "output_type": "display_data",
          "data": {
            "image/png": "[encoded data removed]",
            "text/plain": [
              "<Figure size 432x288 with 1 Axes>"
            ]
          },
          "metadata": {
            "needs_background": "light"
          }
        }
      ]
    },
    {
      "cell_type": "code",
      "metadata": {
        "id": "bEhWD0hKwRNa"
      },
      "source": [
        ""
      ],
      "execution_count": null,
      "outputs": []
    }
  ]
}